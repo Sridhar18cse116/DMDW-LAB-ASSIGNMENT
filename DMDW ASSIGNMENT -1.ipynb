{
 "cells": [
  {
   "cell_type": "code",
   "execution_count": 21,
   "metadata": {},
   "outputs": [
    {
     "name": "stdout",
     "output_type": "stream",
     "text": [
      "ENTER THE LIST ELEMENT1 2 3 4 5 6 7 8\n"
     ]
    }
   ],
   "source": [
    "l=[int(x) for x in input(\"ENTER THE LIST ELEMENT\").split(\" \")]\n",
    "def mean(l):\n",
    "    return(sum(l)/len(l))\n"
   ]
  },
  {
   "cell_type": "code",
   "execution_count": 22,
   "metadata": {},
   "outputs": [],
   "source": [
    "def median(l):\n",
    "    if len(l)%2==0:\n",
    "        return((l[len(l)//2]+l[(len(l)//2)+1])/2)\n",
    "    else:\n",
    "        return (l[((len(l)+1)//2)-1])\n",
    "    \n"
   ]
  },
  {
   "cell_type": "code",
   "execution_count": 23,
   "metadata": {},
   "outputs": [],
   "source": [
    "def mode(l):\n",
    "    max1 = 0\n",
    "    res = l[0] \n",
    "    for i in l: \n",
    "        freq = l.count(i) \n",
    "        if freq > max1: \n",
    "            max1 = freq \n",
    "            res = i \n",
    "    return (l[res])"
   ]
  },
  {
   "cell_type": "code",
   "execution_count": 24,
   "metadata": {},
   "outputs": [],
   "source": [
    "def variance(l):\n",
    "    templ=[]\n",
    "    m=mean(l)\n",
    "    for i in l:\n",
    "        templ.append((i-m)**2)\n",
    "    return sum(templ)\n",
    "\n",
    "\n",
    "        \n",
    "        "
   ]
  },
  {
   "cell_type": "code",
   "execution_count": 25,
   "metadata": {},
   "outputs": [],
   "source": [
    "def strandardeviation(l):\n",
    "    return(variance(l)**(1/2))\n"
   ]
  },
  {
   "cell_type": "code",
   "execution_count": 26,
   "metadata": {},
   "outputs": [
    {
     "name": "stdout",
     "output_type": "stream",
     "text": [
      "4.5\n",
      "5.5\n",
      "2\n",
      "42.0\n",
      "6.48074069840786\n"
     ]
    }
   ],
   "source": [
    "print(mean(l))\n",
    "print(median(l))\n",
    "print(mode(l))\n",
    "print(variance(l))\n",
    "print(strandardeviation(l))"
   ]
  }
 ],
 "metadata": {
  "kernelspec": {
   "display_name": "Python 3",
   "language": "python",
   "name": "python3"
  },
  "language_info": {
   "codemirror_mode": {
    "name": "ipython",
    "version": 3
   },
   "file_extension": ".py",
   "mimetype": "text/x-python",
   "name": "python",
   "nbconvert_exporter": "python",
   "pygments_lexer": "ipython3",
   "version": "3.8.3"
  }
 },
 "nbformat": 4,
 "nbformat_minor": 4
}
